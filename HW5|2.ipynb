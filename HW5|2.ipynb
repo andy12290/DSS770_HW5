{
 "cells": [
  {
   "cell_type": "markdown",
   "metadata": {},
   "source": [
    "* Homework 5|Part 2\n",
    "* pp 212-220 Exercises 1-27 odd\n",
    "* Problem Numbers mention in each cell"
   ]
  },
  {
   "cell_type": "code",
   "execution_count": 1,
   "metadata": {
    "collapsed": true
   },
   "outputs": [],
   "source": [
    "#1\n",
    "# Describe the out put of the examples.\n",
    "\n",
    "def main():\n",
    "    continents = extractField(\"UN.txt\",2)\n",
    "    displayElements(continents)\n",
    "    \n",
    "def extractField(filename, n):\n",
    "    # Extract the nth feild\n",
    "    infile = open(filename, \"r\")\n",
    "    return(record.rstrip().split(\",\")[n-1] for record in infile)\n",
    "def displayElements(setname):\n",
    "    for elements in sorted(setname):\n",
    "        print(elements)"
   ]
  },
  {
   "cell_type": "markdown",
   "metadata": {},
   "source": [
    "main()"
   ]
  },
  {
   "cell_type": "markdown",
   "metadata": {},
   "source": [
    "# if we would like to extract the columns from the csv file.\n",
    "# another simple method by using pandas in python"
   ]
  },
  {
   "cell_type": "code",
   "execution_count": 2,
   "metadata": {
    "collapsed": false
   },
   "outputs": [
    {
     "data": {
      "text/html": [
       "<div>\n",
       "<table border=\"1\" class=\"dataframe\">\n",
       "  <thead>\n",
       "    <tr style=\"text-align: right;\">\n",
       "      <th></th>\n",
       "      <th>Afghanistan</th>\n",
       "      <th>Asia</th>\n",
       "      <th>31.8</th>\n",
       "      <th>251772</th>\n",
       "    </tr>\n",
       "  </thead>\n",
       "  <tbody>\n",
       "    <tr>\n",
       "      <th>0</th>\n",
       "      <td>Albania</td>\n",
       "      <td>Europe</td>\n",
       "      <td>3.000</td>\n",
       "      <td>11100.0</td>\n",
       "    </tr>\n",
       "    <tr>\n",
       "      <th>1</th>\n",
       "      <td>Algeria</td>\n",
       "      <td>Africa</td>\n",
       "      <td>38.300</td>\n",
       "      <td>919595.0</td>\n",
       "    </tr>\n",
       "    <tr>\n",
       "      <th>2</th>\n",
       "      <td>Andorra</td>\n",
       "      <td>Europe</td>\n",
       "      <td>0.085</td>\n",
       "      <td>181.0</td>\n",
       "    </tr>\n",
       "    <tr>\n",
       "      <th>3</th>\n",
       "      <td>Angola</td>\n",
       "      <td>Africa</td>\n",
       "      <td>19.100</td>\n",
       "      <td>481354.0</td>\n",
       "    </tr>\n",
       "    <tr>\n",
       "      <th>4</th>\n",
       "      <td>Antigua and Barbuda</td>\n",
       "      <td>North America</td>\n",
       "      <td>0.091</td>\n",
       "      <td>108.0</td>\n",
       "    </tr>\n",
       "  </tbody>\n",
       "</table>\n",
       "</div>"
      ],
      "text/plain": [
       "           Afghanistan           Asia    31.8    251772\n",
       "0              Albania         Europe   3.000   11100.0\n",
       "1              Algeria         Africa  38.300  919595.0\n",
       "2              Andorra         Europe   0.085     181.0\n",
       "3               Angola         Africa  19.100  481354.0\n",
       "4  Antigua and Barbuda  North America   0.091     108.0"
      ]
     },
     "execution_count": 2,
     "metadata": {},
     "output_type": "execute_result"
    }
   ],
   "source": [
    "import pandas as pd\n",
    "data = pd.read_csv(\"UN.txt\")\n",
    "data.head()"
   ]
  },
  {
   "cell_type": "code",
   "execution_count": 3,
   "metadata": {
    "collapsed": false
   },
   "outputs": [
    {
     "data": {
      "text/plain": [
       "0                 Europe\n",
       "1                 Africa\n",
       "2                 Europe\n",
       "3                 Africa\n",
       "4          North America\n",
       "5          South America\n",
       "6                   Asia\n",
       "7      Australia/Oceania\n",
       "8                 Europe\n",
       "9                   Asia\n",
       "10         North America\n",
       "11                  Asia\n",
       "12                  Asia\n",
       "13         North America\n",
       "14                Europe\n",
       "15                Europe\n",
       "16         North America\n",
       "17                Africa\n",
       "18                  Asia\n",
       "19         South America\n",
       "20                Europe\n",
       "21                Africa\n",
       "22         South America\n",
       "23                  Asia\n",
       "24                Europe\n",
       "25                Africa\n",
       "26                Africa\n",
       "27                  Asia\n",
       "28                Africa\n",
       "29         North America\n",
       "             ...        \n",
       "162        South America\n",
       "163               Africa\n",
       "164               Europe\n",
       "165               Europe\n",
       "166                 Asia\n",
       "167                 Asia\n",
       "168                 Asia\n",
       "169               Europe\n",
       "170                 Asia\n",
       "171               Africa\n",
       "172    Australia/Oceania\n",
       "173        North America\n",
       "174               Africa\n",
       "175                 Asia\n",
       "176                 Asia\n",
       "177    Australia/Oceania\n",
       "178               Africa\n",
       "179               Europe\n",
       "180                 Asia\n",
       "181               Europe\n",
       "182               Africa\n",
       "183        North America\n",
       "184        South America\n",
       "185                 Asia\n",
       "186    Australia/Oceania\n",
       "187        South America\n",
       "188                 Asia\n",
       "189                 Asia\n",
       "190               Africa\n",
       "191               Africa\n",
       "Name: Asia, dtype: object"
      ]
     },
     "execution_count": 3,
     "metadata": {},
     "output_type": "execute_result"
    }
   ],
   "source": [
    "# Here we can see the particuler column with values.\n",
    "data.Asia"
   ]
  },
  {
   "cell_type": "code",
   "execution_count": 4,
   "metadata": {
    "collapsed": true
   },
   "outputs": [],
   "source": [
    "# 3\n",
    "infile = open(\"UN.txt\",\"r\")\n",
    "outfile = open(\"New_file.txt\",\"w\")\n",
    "for line in infile:\n",
    "    data = line.split(\",\")\n",
    "    country = data[0]\n",
    "    continent = data[1]\n",
    "    area =data[3]\n",
    "    outfile.write(country + \",\" + continent + \",\")"
   ]
  },
  {
   "cell_type": "code",
   "execution_count": 5,
   "metadata": {
    "collapsed": false
   },
   "outputs": [
    {
     "data": {
      "text/plain": [
       "'Zimbabwe'"
      ]
     },
     "execution_count": 5,
     "metadata": {},
     "output_type": "execute_result"
    }
   ],
   "source": [
    "# we can see the output \n",
    "data[0]"
   ]
  },
  {
   "cell_type": "code",
   "execution_count": 6,
   "metadata": {
    "collapsed": false
   },
   "outputs": [],
   "source": [
    "# 5\n",
    "# Describe the file created by the programe\n",
    "def main():\n",
    "    countries = PlaceDataIntoList(\"UN.txt\")\n",
    "    countries.sort(key = bypop, reversed = True)\n",
    "    createFile(countries)\n",
    "\n",
    "def PlaceDataIntoList(filename):\n",
    "    countries = []\n",
    "    infile = open(filename, \"r\")\n",
    "    for line in infile:\n",
    "        line = line.split(\",\")\n",
    "        if line[1] == \"Europe\":\n",
    "            countries.append(list(line[0],eval(line[2])))\n",
    "    infile.close() \n",
    "    return countries\n",
    "\n",
    "def bypop(country):\n",
    "    return country[1]\n",
    "\n",
    "def createFile(countries):\n",
    "    outfile = open(\"Europebypop.txt\",\"w\")\n",
    "    for country in countries:\n",
    "        outfile.write(country[0] + \",\" +str(country[1]) + \"\\n\")\n",
    "        outfile.close()"
   ]
  },
  {
   "cell_type": "code",
   "execution_count": 7,
   "metadata": {
    "collapsed": false
   },
   "outputs": [],
   "source": [
    "# in output file we are appending the extracted column from the input file"
   ]
  },
  {
   "cell_type": "code",
   "execution_count": 8,
   "metadata": {
    "collapsed": false
   },
   "outputs": [
    {
     "name": "stdout",
     "output_type": "stream",
     "text": [
      "<bound method Series.sort of 0       BA\n",
      "1      CAT\n",
      "2     CSCO\n",
      "3      CVX\n",
      "4       DD\n",
      "5      DIS\n",
      "6       GE\n",
      "7       GS\n",
      "8       HD\n",
      "9      IBM\n",
      "10    INTC\n",
      "11     JNJ\n",
      "12     JPM\n",
      "13      KO\n",
      "14     MCD\n",
      "15     MMM\n",
      "16     MRK\n",
      "17    MSFT\n",
      "18     NKE\n",
      "19     PFE\n",
      "20      PG\n",
      "21       T\n",
      "22     TRV\n",
      "23     UNH\n",
      "24     UTX\n",
      "25      VZ\n",
      "26       V\n",
      "27     WMT\n",
      "28     XOM\n",
      "Name: AXP, dtype: object>\n"
     ]
    }
   ],
   "source": [
    "# 7\n",
    "# I will used the different method to calculate the and processes the file\n",
    "# display the 28 stocks from the file(sort)\n",
    "data = pd.read_csv(\"DOW.txt\")\n",
    "print(data.AXP.sort)"
   ]
  },
  {
   "cell_type": "code",
   "execution_count": 9,
   "metadata": {
    "collapsed": false
   },
   "outputs": [],
   "source": [
    "# to calculate the portfolio we dont the header files name\n",
    "def main():\n",
    "    symbol = input(\"Enter a symbol:\")\n",
    "    infile = open(\"DOW.txt\", \"r\")\n",
    "    for line in infile:\n",
    "        data = line.split(\",\")\n",
    "        if data[1] == symbol:\n",
    "            print(\"Company name\",data[0]) \n",
    "            print(\"Stock Name\", data[1])\n",
    "            print(\"Exchange\", data[2])\n",
    "            print(\"Growth rate\", data[7])\n",
    "    "
   ]
  },
  {
   "cell_type": "code",
   "execution_count": 10,
   "metadata": {
    "collapsed": false
   },
   "outputs": [
    {
     "name": "stdout",
     "output_type": "stream",
     "text": [
      "Enter a symbol:CSCO\n",
      "Company name Cisco Systems\n",
      "Stock Name CSCO\n",
      "Exchange NASDAQ\n",
      "Growth rate 0.72\n",
      "\n"
     ]
    }
   ],
   "source": [
    "#CSCO\n",
    "# output\n",
    "main()"
   ]
  },
  {
   "cell_type": "code",
   "execution_count": 11,
   "metadata": {
    "collapsed": true
   },
   "outputs": [],
   "source": [
    "# 9\n"
   ]
  },
  {
   "cell_type": "code",
   "execution_count": 12,
   "metadata": {
    "collapsed": true
   },
   "outputs": [],
   "source": [
    "# 11\n",
    "def main():\n",
    "    symbol = input(\"Enter a President:\")\n",
    "    infile = open(\"Justices.txt\", \"r\")\n",
    "    for line in infile:\n",
    "        data = line.split(\",\")\n",
    "        if data[2] == symbol:\n",
    "            print(\"Justice Appointed :\",data[0]) \n",
    "            "
   ]
  },
  {
   "cell_type": "code",
   "execution_count": 13,
   "metadata": {
    "collapsed": false
   },
   "outputs": [
    {
     "name": "stdout",
     "output_type": "stream",
     "text": [
      "Enter a President:George W. Bush\n",
      "Justice Appointed : Samuel\n",
      "Justice Appointed : John\n"
     ]
    }
   ],
   "source": [
    "main()"
   ]
  },
  {
   "cell_type": "code",
   "execution_count": 14,
   "metadata": {
    "collapsed": false
   },
   "outputs": [],
   "source": [
    "# 13\n",
    "import operator\n",
    "def main():\n",
    "    symbol = input(\"Enter a President:\")\n",
    "    infile = open(\"Justices.txt\", \"r\")\n",
    "    infile = sorted(infile,key = lambda x: x[4], reverse =False)\n",
    "    for line in infile:\n",
    "        data = line.split(\",\")\n",
    "        if data[2] == symbol:\n",
    "            print(\"Justice Appointed :\",data[0])\n",
    "            print(\"The year they appointed\",data[4])\n",
    "    "
   ]
  },
  {
   "cell_type": "code",
   "execution_count": 15,
   "metadata": {
    "collapsed": false
   },
   "outputs": [
    {
     "name": "stdout",
     "output_type": "stream",
     "text": [
      "Enter a President:George W. Bush\n",
      "Justice Appointed : John\n",
      "The year they appointed 2005\n",
      "Justice Appointed : Samuel\n",
      "The year they appointed 2006\n"
     ]
    }
   ],
   "source": [
    "# George W. Bush\n",
    "main()"
   ]
  },
  {
   "cell_type": "code",
   "execution_count": 16,
   "metadata": {
    "collapsed": true
   },
   "outputs": [],
   "source": [
    "# Above example we can see the Justice appointed by the Year order."
   ]
  },
  {
   "cell_type": "code",
   "execution_count": 17,
   "metadata": {
    "collapsed": true
   },
   "outputs": [],
   "source": [
    "# without sorted \n",
    "def main():\n",
    "    symbol = input(\"Enter a President:\")\n",
    "    infile = open(\"Justices.txt\", \"r\")\n",
    "    infile = sorted(infile,key = lambda x: x[4], reverse =True)\n",
    "    for line in infile:\n",
    "        data = line.split(\",\")\n",
    "        if data[2] == symbol:\n",
    "            print(\"Justice Appointed :\",data[0])\n",
    "            print(\"The year they appointed\",data[4])\n",
    "    "
   ]
  },
  {
   "cell_type": "code",
   "execution_count": 18,
   "metadata": {
    "collapsed": false
   },
   "outputs": [
    {
     "name": "stdout",
     "output_type": "stream",
     "text": [
      "Enter a President:George W. Bush\n",
      "Justice Appointed : Samuel\n",
      "The year they appointed 2006\n",
      "Justice Appointed : John\n",
      "The year they appointed 2005\n"
     ]
    }
   ],
   "source": [
    "# George W. Bush\n",
    "main()"
   ]
  },
  {
   "cell_type": "markdown",
   "metadata": {},
   "source": [
    "# With out sorted output"
   ]
  },
  {
   "cell_type": "code",
   "execution_count": 19,
   "metadata": {
    "collapsed": false
   },
   "outputs": [
    {
     "data": {
      "text/html": [
       "<div>\n",
       "<table border=\"1\" class=\"dataframe\">\n",
       "  <thead>\n",
       "    <tr style=\"text-align: right;\">\n",
       "      <th></th>\n",
       "      <th>1</th>\n",
       "      <th>partridge in a pear tree</th>\n",
       "      <th>207.68</th>\n",
       "    </tr>\n",
       "  </thead>\n",
       "  <tbody>\n",
       "    <tr>\n",
       "      <th>0</th>\n",
       "      <td>2</td>\n",
       "      <td>turtle doves</td>\n",
       "      <td>62.50</td>\n",
       "    </tr>\n",
       "    <tr>\n",
       "      <th>1</th>\n",
       "      <td>3</td>\n",
       "      <td>French hens</td>\n",
       "      <td>60.50</td>\n",
       "    </tr>\n",
       "    <tr>\n",
       "      <th>2</th>\n",
       "      <td>4</td>\n",
       "      <td>calling birds</td>\n",
       "      <td>149.99</td>\n",
       "    </tr>\n",
       "    <tr>\n",
       "      <th>3</th>\n",
       "      <td>5</td>\n",
       "      <td>gold rings</td>\n",
       "      <td>150.00</td>\n",
       "    </tr>\n",
       "    <tr>\n",
       "      <th>4</th>\n",
       "      <td>6</td>\n",
       "      <td>geese-a-laying</td>\n",
       "      <td>60.00</td>\n",
       "    </tr>\n",
       "    <tr>\n",
       "      <th>5</th>\n",
       "      <td>7</td>\n",
       "      <td>swans-a-swimming</td>\n",
       "      <td>1000.00</td>\n",
       "    </tr>\n",
       "    <tr>\n",
       "      <th>6</th>\n",
       "      <td>8</td>\n",
       "      <td>maids-a-milking</td>\n",
       "      <td>7.25</td>\n",
       "    </tr>\n",
       "    <tr>\n",
       "      <th>7</th>\n",
       "      <td>9</td>\n",
       "      <td>ladies dancing</td>\n",
       "      <td>839.20</td>\n",
       "    </tr>\n",
       "    <tr>\n",
       "      <th>8</th>\n",
       "      <td>10</td>\n",
       "      <td>lords-a-leaping</td>\n",
       "      <td>534.82</td>\n",
       "    </tr>\n",
       "    <tr>\n",
       "      <th>9</th>\n",
       "      <td>11</td>\n",
       "      <td>pipers piping</td>\n",
       "      <td>239.56</td>\n",
       "    </tr>\n",
       "    <tr>\n",
       "      <th>10</th>\n",
       "      <td>12</td>\n",
       "      <td>drummers drumming</td>\n",
       "      <td>237.88</td>\n",
       "    </tr>\n",
       "  </tbody>\n",
       "</table>\n",
       "</div>"
      ],
      "text/plain": [
       "     1 partridge in a pear tree   207.68\n",
       "0    2             turtle doves    62.50\n",
       "1    3              French hens    60.50\n",
       "2    4            calling birds   149.99\n",
       "3    5               gold rings   150.00\n",
       "4    6           geese-a-laying    60.00\n",
       "5    7         swans-a-swimming  1000.00\n",
       "6    8          maids-a-milking     7.25\n",
       "7    9           ladies dancing   839.20\n",
       "8   10          lords-a-leaping   534.82\n",
       "9   11            pipers piping   239.56\n",
       "10  12        drummers drumming   237.88"
      ]
     },
     "execution_count": 19,
     "metadata": {},
     "output_type": "execute_result"
    }
   ],
   "source": [
    "# 15\n",
    "# all records \n",
    "data = pd.read_csv(\"Gifts.txt\")\n",
    "data"
   ]
  },
  {
   "cell_type": "code",
   "execution_count": 20,
   "metadata": {
    "collapsed": true
   },
   "outputs": [],
   "source": [
    "def main():\n",
    "    symbol = input(\"Enter an Number 1 to 12:\")\n",
    "    infile = open(\"Gifts.txt\", \"r\")\n",
    "    for line in infile:\n",
    "        data = line.split(\",\")\n",
    "        if data[0] == symbol:\n",
    "            print(\"Cost :\",data[2])\n",
    "        "
   ]
  },
  {
   "cell_type": "code",
   "execution_count": 21,
   "metadata": {
    "collapsed": false
   },
   "outputs": [
    {
     "name": "stdout",
     "output_type": "stream",
     "text": [
      "Enter an Number 1 to 12:4\n",
      "Cost : 149.99\n",
      "\n"
     ]
    }
   ],
   "source": [
    "# we can verify with above dataframe\n",
    "main()"
   ]
  },
  {
   "cell_type": "code",
   "execution_count": 30,
   "metadata": {
    "collapsed": true
   },
   "outputs": [],
   "source": [
    "# 17\n",
    "\n",
    "def main():\n",
    "    symbol = input(\"Enter a College ID:\")\n",
    "    infile = open(\"Colleges.txt\", \"r\")\n",
    "    infile = sorted(infile,key = lambda x: x[2], reverse =False)\n",
    "    for line in infile:\n",
    "        data = line.split(\",\")\n",
    "        if data[1] == symbol:\n",
    "            print(\"University Name :\",data[0])\n",
    "            print(\"Year the University founded :\",data[2])\n",
    "            "
   ]
  },
  {
   "cell_type": "code",
   "execution_count": 32,
   "metadata": {
    "collapsed": false
   },
   "outputs": [
    {
     "name": "stdout",
     "output_type": "stream",
     "text": [
      "Enter a College ID:PA\n",
      "University Name : Washington & Jefferson\n",
      "Year the University founded : 1781\n",
      "\n",
      "University Name : Moravian College\n",
      "Year the University founded : 1742\n",
      "\n",
      "University Name : University of Pennsylvania\n",
      "Year the University founded : 1740\n",
      "\n",
      "University Name : University of Pittsburgh\n",
      "Year the University founded : 1787\n",
      "\n",
      "University Name : Dickinson College\n",
      "Year the University founded : 1773\n",
      "\n"
     ]
    }
   ],
   "source": [
    "main()"
   ]
  },
  {
   "cell_type": "code",
   "execution_count": 35,
   "metadata": {
    "collapsed": false
   },
   "outputs": [],
   "source": [
    "# 19\n",
    "def main():\n",
    "    symbol = input(\"Enter a state:\")\n",
    "    infile = open(\"StatesANC.txt\", \"r\")\n",
    "    infile = sorted(infile,key = lambda x: x[2], reverse =False)\n",
    "    for line in infile:\n",
    "        data = line.split(\",\")\n",
    "        if data[0] == symbol:\n",
    "            print(\"State capital Abbr :\",data[1])\n",
    "            print(\"state Capital :\",data[3])"
   ]
  },
  {
   "cell_type": "code",
   "execution_count": 36,
   "metadata": {
    "collapsed": false
   },
   "outputs": [
    {
     "name": "stdout",
     "output_type": "stream",
     "text": [
      "Enter a state:Florida\n",
      "State capital Abbr : FL\n",
      "state Capital : Tallahassee\n",
      "\n"
     ]
    }
   ],
   "source": [
    "main()"
   ]
  },
  {
   "cell_type": "code",
   "execution_count": 43,
   "metadata": {
    "collapsed": true
   },
   "outputs": [],
   "source": [
    "# 21 \n",
    "def main():\n",
    "    symbol = input(\"Enter a Genre:\")\n",
    "    infile = open(\"Oscars.txt\", \"r\")\n",
    "    for line in infile:\n",
    "        data = line.split(\",\")\n",
    "        if data[1] == symbol:\n",
    "            print(\"The academey Award winnere are :\",data[0])\n",
    "            "
   ]
  },
  {
   "cell_type": "raw",
   "metadata": {},
   "source": [
    "# the output show the error in unicode UTF8, problem with encoding the file. need to check the file.\n",
    "main()"
   ]
  },
  {
   "cell_type": "code",
   "execution_count": 50,
   "metadata": {
    "collapsed": false
   },
   "outputs": [
    {
     "data": {
      "text/html": [
       "<div>\n",
       "<table border=\"1\" class=\"dataframe\">\n",
       "  <thead>\n",
       "    <tr style=\"text-align: right;\">\n",
       "      <th></th>\n",
       "      <th>Colt Peacemaker</th>\n",
       "      <th>12.20</th>\n",
       "    </tr>\n",
       "  </thead>\n",
       "  <tbody>\n",
       "    <tr>\n",
       "      <th>0</th>\n",
       "      <td>Holster</td>\n",
       "      <td>2.00</td>\n",
       "    </tr>\n",
       "    <tr>\n",
       "      <th>1</th>\n",
       "      <td>Levi Strauss jeans</td>\n",
       "      <td>1.35</td>\n",
       "    </tr>\n",
       "    <tr>\n",
       "      <th>2</th>\n",
       "      <td>Saddle</td>\n",
       "      <td>40.00</td>\n",
       "    </tr>\n",
       "    <tr>\n",
       "      <th>3</th>\n",
       "      <td>Stetson</td>\n",
       "      <td>10.00</td>\n",
       "    </tr>\n",
       "  </tbody>\n",
       "</table>\n",
       "</div>"
      ],
      "text/plain": [
       "      Colt Peacemaker  12.20\n",
       "0             Holster   2.00\n",
       "1  Levi Strauss jeans   1.35\n",
       "2              Saddle  40.00\n",
       "3             Stetson  10.00"
      ]
     },
     "execution_count": 50,
     "metadata": {},
     "output_type": "execute_result"
    }
   ],
   "source": [
    "# 23\n",
    "# Display the prices\n",
    "data = pd.read_csv(\"Cowboy.txt\")\n",
    "data"
   ]
  },
  {
   "cell_type": "code",
   "execution_count": null,
   "metadata": {
    "collapsed": true
   },
   "outputs": [],
   "source": [
    "# 25 and 27 "
   ]
  }
 ],
 "metadata": {
  "anaconda-cloud": {},
  "kernelspec": {
   "display_name": "Python [Root]",
   "language": "python",
   "name": "Python [Root]"
  },
  "language_info": {
   "codemirror_mode": {
    "name": "ipython",
    "version": 3
   },
   "file_extension": ".py",
   "mimetype": "text/x-python",
   "name": "python",
   "nbconvert_exporter": "python",
   "pygments_lexer": "ipython3",
   "version": "3.5.3"
  }
 },
 "nbformat": 4,
 "nbformat_minor": 0
}

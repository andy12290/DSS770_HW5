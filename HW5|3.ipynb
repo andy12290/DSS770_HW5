{
 "cells": [
  {
   "cell_type": "markdown",
   "metadata": {},
   "source": [
    "* Home work 5 Part 3\n",
    "* pp 231-235 Exercises 1-61 odd\n",
    "* Problem numbers mention on each cell"
   ]
  },
  {
   "cell_type": "code",
   "execution_count": 1,
   "metadata": {
    "collapsed": false
   },
   "outputs": [
    {
     "name": "stdout",
     "output_type": "stream",
     "text": [
      "1.3\n"
     ]
    }
   ],
   "source": [
    "# 1\n",
    "NE = {\"CT\":3.6, \"ME\":1.3, \"MA\":6.5, \"NH\":1.5, \"RI\":1.1, \"VT\":0.6}\n",
    "print(NE[\"ME\"])"
   ]
  },
  {
   "cell_type": "code",
   "execution_count": 2,
   "metadata": {
    "collapsed": false
   },
   "outputs": [
    {
     "data": {
      "text/plain": [
       "dict_keys(['CT', 'NH', 'MA', 'ME', 'RI', 'VT'])"
      ]
     },
     "execution_count": 2,
     "metadata": {},
     "output_type": "execute_result"
    }
   ],
   "source": [
    "# 3\n",
    "NE.keys()"
   ]
  },
  {
   "cell_type": "code",
   "execution_count": 3,
   "metadata": {
    "collapsed": false
   },
   "outputs": [
    {
     "data": {
      "text/plain": [
       "dict_items([('CT', 3.6), ('NH', 1.5), ('MA', 6.5), ('ME', 1.3), ('RI', 1.1), ('VT', 0.6)])"
      ]
     },
     "execution_count": 3,
     "metadata": {},
     "output_type": "execute_result"
    }
   ],
   "source": [
    "# 5\n",
    "NE.items()"
   ]
  },
  {
   "cell_type": "code",
   "execution_count": 4,
   "metadata": {
    "collapsed": false
   },
   "outputs": [
    {
     "data": {
      "text/plain": [
       "'absent'"
      ]
     },
     "execution_count": 4,
     "metadata": {},
     "output_type": "execute_result"
    }
   ],
   "source": [
    "# 7\n",
    "NE.get(\"PA\", \"absent\")"
   ]
  },
  {
   "cell_type": "code",
   "execution_count": 5,
   "metadata": {
    "collapsed": false
   },
   "outputs": [
    {
     "data": {
      "text/plain": [
       "'VT'"
      ]
     },
     "execution_count": 5,
     "metadata": {},
     "output_type": "execute_result"
    }
   ],
   "source": [
    "# 9\n",
    "max(NE)"
   ]
  },
  {
   "cell_type": "code",
   "execution_count": 6,
   "metadata": {
    "collapsed": false
   },
   "outputs": [
    {
     "data": {
      "text/plain": [
       "1.5"
      ]
     },
     "execution_count": 6,
     "metadata": {},
     "output_type": "execute_result"
    }
   ],
   "source": [
    "# 11\n",
    "NE[\"ME\"] += 0.2\n",
    "NE[\"ME\"]"
   ]
  },
  {
   "cell_type": "code",
   "execution_count": 7,
   "metadata": {
    "collapsed": false
   },
   "outputs": [],
   "source": [
    "# 13\n",
    "NE.update({\"RI\": 2.3, \"CT\": 4.0})"
   ]
  },
  {
   "cell_type": "code",
   "execution_count": 8,
   "metadata": {
    "collapsed": false
   },
   "outputs": [
    {
     "data": {
      "text/plain": [
       "{'CT': 4.0, 'MA': 6.5, 'ME': 1.5, 'NH': 1.5, 'RI': 2.3, 'VT': 0.6}"
      ]
     },
     "execution_count": 8,
     "metadata": {},
     "output_type": "execute_result"
    }
   ],
   "source": [
    "NE"
   ]
  },
  {
   "cell_type": "code",
   "execution_count": 9,
   "metadata": {
    "collapsed": false
   },
   "outputs": [
    {
     "name": "stdout",
     "output_type": "stream",
     "text": [
      "CT\n",
      "NH\n",
      "MA\n",
      "ME\n",
      "RI\n",
      "VT\n"
     ]
    }
   ],
   "source": [
    "# 15\n",
    "for x in NE:\n",
    "    print(x)"
   ]
  },
  {
   "cell_type": "code",
   "execution_count": 10,
   "metadata": {
    "collapsed": false
   },
   "outputs": [
    {
     "name": "stdout",
     "output_type": "stream",
     "text": [
      "4.0\n",
      "5.5\n",
      "12.0\n",
      "13.5\n",
      "15.8\n",
      "16.400000000000002\n"
     ]
    }
   ],
   "source": [
    "# 17\n",
    "total = 0\n",
    "for x in NE.values():\n",
    "    total += x\n",
    "    print(total)"
   ]
  },
  {
   "cell_type": "raw",
   "metadata": {},
   "source": [
    "# 19\n",
    "# Delete the VT value\n",
    "del(NE[\"VT\"])"
   ]
  },
  {
   "cell_type": "code",
   "execution_count": 11,
   "metadata": {
    "collapsed": false
   },
   "outputs": [
    {
     "data": {
      "text/plain": [
       "6"
      ]
     },
     "execution_count": 11,
     "metadata": {},
     "output_type": "execute_result"
    }
   ],
   "source": [
    "len(NE)"
   ]
  },
  {
   "cell_type": "code",
   "execution_count": 12,
   "metadata": {
    "collapsed": true
   },
   "outputs": [],
   "source": [
    "#21\n",
    "homeRunKings = {\"Bonds\":762, \"Aaron\":755}"
   ]
  },
  {
   "cell_type": "code",
   "execution_count": 13,
   "metadata": {
    "collapsed": false
   },
   "outputs": [
    {
     "data": {
      "text/plain": [
       "2"
      ]
     },
     "execution_count": 13,
     "metadata": {},
     "output_type": "execute_result"
    }
   ],
   "source": [
    "#23\n",
    "len(homeRunKings)"
   ]
  },
  {
   "cell_type": "code",
   "execution_count": 14,
   "metadata": {
    "collapsed": false
   },
   "outputs": [
    {
     "data": {
      "text/plain": [
       "'Aaron'"
      ]
     },
     "execution_count": 14,
     "metadata": {},
     "output_type": "execute_result"
    }
   ],
   "source": [
    "# 25\n",
    "min(homeRunKings)"
   ]
  },
  {
   "cell_type": "code",
   "execution_count": 15,
   "metadata": {
    "collapsed": false
   },
   "outputs": [
    {
     "data": {
      "text/plain": [
       "['Bonds', 'Aaron']"
      ]
     },
     "execution_count": 15,
     "metadata": {},
     "output_type": "execute_result"
    }
   ],
   "source": [
    "# 27\n",
    "list(homeRunKings)"
   ]
  },
  {
   "cell_type": "code",
   "execution_count": 16,
   "metadata": {
    "collapsed": false
   },
   "outputs": [
    {
     "data": {
      "text/plain": [
       "[762, 755]"
      ]
     },
     "execution_count": 16,
     "metadata": {},
     "output_type": "execute_result"
    }
   ],
   "source": [
    "# 29\n",
    "list(homeRunKings.values())"
   ]
  },
  {
   "cell_type": "code",
   "execution_count": 17,
   "metadata": {
    "collapsed": false
   },
   "outputs": [
    {
     "data": {
      "text/plain": [
       "762"
      ]
     },
     "execution_count": 17,
     "metadata": {},
     "output_type": "execute_result"
    }
   ],
   "source": [
    "#31\n",
    "homeRunKings.get(\"Bonds\", \"NA\")"
   ]
  },
  {
   "cell_type": "raw",
   "metadata": {},
   "source": [
    "#33\n",
    "del (homeRunKings[\"Bonds\"])"
   ]
  },
  {
   "cell_type": "code",
   "execution_count": 18,
   "metadata": {
    "collapsed": false
   },
   "outputs": [
    {
     "data": {
      "text/plain": [
       "0"
      ]
     },
     "execution_count": 18,
     "metadata": {},
     "output_type": "execute_result"
    }
   ],
   "source": [
    "#35\n",
    "homeRunKings.clear()\n",
    "len(homeRunKings)"
   ]
  },
  {
   "cell_type": "code",
   "execution_count": 19,
   "metadata": {
    "collapsed": false
   },
   "outputs": [],
   "source": [
    "# 37\n",
    "for x in homeRunKings:\n",
    "    print(x)"
   ]
  },
  {
   "cell_type": "code",
   "execution_count": 20,
   "metadata": {
    "collapsed": false
   },
   "outputs": [],
   "source": [
    "# 39\n",
    "for x in homeRunKings.items():\n",
    "    print(x[1])"
   ]
  },
  {
   "cell_type": "code",
   "execution_count": 21,
   "metadata": {
    "collapsed": false
   },
   "outputs": [
    {
     "data": {
      "text/plain": [
       "{}"
      ]
     },
     "execution_count": 21,
     "metadata": {},
     "output_type": "execute_result"
    }
   ],
   "source": [
    "# 41\n",
    "dup = dict(homeRunKings)\n",
    "dup"
   ]
  },
  {
   "cell_type": "code",
   "execution_count": 22,
   "metadata": {
    "collapsed": true
   },
   "outputs": [],
   "source": [
    "#43\n",
    "homeRunKings.update({\"Bonds\": 900})"
   ]
  },
  {
   "cell_type": "code",
   "execution_count": 23,
   "metadata": {
    "collapsed": false
   },
   "outputs": [
    {
     "data": {
      "text/plain": [
       "{'Bonds': 900}"
      ]
     },
     "execution_count": 23,
     "metadata": {},
     "output_type": "execute_result"
    }
   ],
   "source": [
    "homeRunKings"
   ]
  },
  {
   "cell_type": "code",
   "execution_count": 24,
   "metadata": {
    "collapsed": false
   },
   "outputs": [
    {
     "name": "stdout",
     "output_type": "stream",
     "text": [
      "Who was the youngest U.S President: TEddy\n",
      "You are correct\n"
     ]
    }
   ],
   "source": [
    "#45\n",
    "press = input(\"Who was the youngest U.S President: \")\n",
    "press = press.upper()\n",
    "if press == (\"THEODORE ROOSEVELT\") or (press == \"TEDDY\"):\n",
    "    print(\"You are correct\")"
   ]
  },
  {
   "cell_type": "code",
   "execution_count": 25,
   "metadata": {
    "collapsed": false
   },
   "outputs": [],
   "source": [
    "#47\n",
    "topHitters = {\"Gehrig\": {\"atbates\":8061, \"hits\":2721},\n",
    "             \"Ruth\":{\"atbates\":8399, \"hits\":2873},\n",
    "             \"Willims\":{\"atbates\":7706, \"hits\":2654}}"
   ]
  },
  {
   "cell_type": "code",
   "execution_count": 26,
   "metadata": {
    "collapsed": false
   },
   "outputs": [
    {
     "data": {
      "text/plain": [
       "{'Gehrig': {'atbates': 8061, 'hits': 2721},\n",
       " 'Ruth': {'atbates': 8399, 'hits': 2873},\n",
       " 'Willims': {'atbates': 7706, 'hits': 2654}}"
      ]
     },
     "execution_count": 26,
     "metadata": {},
     "output_type": "execute_result"
    }
   ],
   "source": [
    "topHitters"
   ]
  },
  {
   "cell_type": "code",
   "execution_count": 27,
   "metadata": {
    "collapsed": false
   },
   "outputs": [
    {
     "name": "stdout",
     "output_type": "stream",
     "text": [
      "Ruth average in batting 0.3420645314918443\n",
      "Gehrig average in batting 0.33755117231112763\n",
      "Willims average in batting 0.3444069556189982\n"
     ]
    }
   ],
   "source": [
    "# 47\n",
    "ruth = list(topHitters[\"Ruth\"].values())\n",
    "print(\"Ruth average in batting\", ruth[0]/ruth[1])\n",
    "\n",
    "\n",
    "Ge = list(topHitters[\"Gehrig\"].values())\n",
    "print(\"Gehrig average in batting\", Ge[0]/Ge[1])\n",
    "\n",
    "\n",
    "Willims = list(topHitters[\"Willims\"].values())\n",
    "print(\"Willims average in batting\", Willims[0]/Willims[1])\n"
   ]
  },
  {
   "cell_type": "code",
   "execution_count": 28,
   "metadata": {
    "collapsed": false
   },
   "outputs": [
    {
     "name": "stdout",
     "output_type": "stream",
     "text": [
      "Average of three:  6478.666666666667\n"
     ]
    }
   ],
   "source": [
    "# 49\n",
    "# we can manipulate the dict as per the requirement\n",
    "ruth = list(topHitters[\"Ruth\"].values())\n",
    "ruth = ruth[0]\n",
    "\n",
    "Ge = list(topHitters[\"Gehrig\"].values())\n",
    "Ge = Ge[0]\n",
    "\n",
    "Willims = list(topHitters[\"Willims\"].values())\n",
    "Willims = Willims[0]\n",
    "\n",
    "ave = ruth+Ge+Willims/3\n",
    "print(\"Average of three: \", ave)"
   ]
  },
  {
   "cell_type": "code",
   "execution_count": 29,
   "metadata": {
    "collapsed": false
   },
   "outputs": [],
   "source": [
    "# 51\n",
    "def main():\n",
    "    datas  = getDictionary(\"JusticesDict(1).dat\")\n",
    "    data = Inputname(datas)\n",
    "    displaydata(datas, data)\n",
    "    \n",
    "def getDictionary(filename):\n",
    "    infile = open(filename, \"rb\")\n",
    "    datas = pickle.load(infile)\n",
    "    infile.close()\n",
    "    return datas\n",
    "\n",
    "\n",
    "def Inputname(datas):\n",
    "    data = input(\"Name of president: \")\n",
    "    while data not in datas:\n",
    "        print(\"Not a member\")\n",
    "        return data  \n",
    "    \n",
    "def displaydata(datas, data):\n",
    "    print(\"Year\", datas[data][\"yrLeft\"])"
   ]
  },
  {
   "cell_type": "code",
   "execution_count": null,
   "metadata": {
    "collapsed": false
   },
   "outputs": [],
   "source": [
    "# 53\n",
    "\n"
   ]
  },
  {
   "cell_type": "code",
   "execution_count": 35,
   "metadata": {
    "collapsed": false
   },
   "outputs": [
    {
     "name": "stdout",
     "output_type": "stream",
     "text": [
      "Enter a string: aniket kale\n"
     ]
    }
   ],
   "source": [
    "# 55\n",
    "def countLetters(word):\n",
    "    letterdict={}\n",
    "    for letter in word:\n",
    "        letterdict[letter] = 0\n",
    "    for letter in word:\n",
    "        letterdict[letter] += 1\n",
    "    return letterdict"
   ]
  },
  {
   "cell_type": "code",
   "execution_count": 38,
   "metadata": {
    "collapsed": false
   },
   "outputs": [
    {
     "data": {
      "text/plain": [
       "{' ': 1,\n",
       " 'A': 1,\n",
       " 'K': 1,\n",
       " 'a': 1,\n",
       " 'e': 2,\n",
       " 'i': 1,\n",
       " 'k': 1,\n",
       " 'l': 1,\n",
       " 'n': 1,\n",
       " 't': 1}"
      ]
     },
     "execution_count": 38,
     "metadata": {},
     "output_type": "execute_result"
    }
   ],
   "source": [
    "countLetters(\"Aniket Kale\")"
   ]
  },
  {
   "cell_type": "code",
   "execution_count": null,
   "metadata": {
    "collapsed": true
   },
   "outputs": [],
   "source": [
    "# 57 # 59 # 61 "
   ]
  }
 ],
 "metadata": {
  "anaconda-cloud": {},
  "kernelspec": {
   "display_name": "Python [Root]",
   "language": "python",
   "name": "Python [Root]"
  },
  "language_info": {
   "codemirror_mode": {
    "name": "ipython",
    "version": 3
   },
   "file_extension": ".py",
   "mimetype": "text/x-python",
   "name": "python",
   "nbconvert_exporter": "python",
   "pygments_lexer": "ipython3",
   "version": "3.5.3"
  }
 },
 "nbformat": 4,
 "nbformat_minor": 0
}

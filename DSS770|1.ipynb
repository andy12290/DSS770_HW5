{
 "cells": [
  {
   "cell_type": "markdown",
   "metadata": {},
   "source": [
    "* Name: Aniket Kale\n",
    "* Class: DSS770\n",
    "* Homework 5 Part 1    "
   ]
  },
  {
   "cell_type": "markdown",
   "metadata": {},
   "source": [
    "# Pages 202-207(1-46 Odd)\n",
    "# Problem number written in each cell. "
   ]
  },
  {
   "cell_type": "code",
   "execution_count": 8,
   "metadata": {
    "collapsed": false
   },
   "outputs": [
    {
     "name": "stdout",
     "output_type": "stream",
     "text": [
      "['able', 'one', 'three', 'two']\n"
     ]
    }
   ],
   "source": [
    "#1\n",
    "infile = open(\"Words.txt\", \"r\")\n",
    "wordList = [line.rstrip() for line in infile]\n",
    "print(wordList)\n",
    "infile.close()"
   ]
  },
  {
   "cell_type": "code",
   "execution_count": 9,
   "metadata": {
    "collapsed": false
   },
   "outputs": [
    {
     "name": "stdout",
     "output_type": "stream",
     "text": [
      "able\n",
      "one\n",
      "three\n",
      "two\n"
     ]
    }
   ],
   "source": [
    "for word in sorted(wordList):\n",
    "    print(word)"
   ]
  },
  {
   "cell_type": "markdown",
   "metadata": {},
   "source": [
    "* We can write the same words into the file"
   ]
  },
  {
   "cell_type": "code",
   "execution_count": 19,
   "metadata": {
    "collapsed": false
   },
   "outputs": [],
   "source": [
    "# 2\n",
    "outfile = open(\"Greetings.txt\", \"w\")\n",
    "outfile.write(\"Aniket\\n\")\n",
    "outfile.close()"
   ]
  },
  {
   "cell_type": "code",
   "execution_count": 18,
   "metadata": {
    "collapsed": false
   },
   "outputs": [
    {
     "data": {
      "text/plain": [
       "<_io.TextIOWrapper name='Greetings.txt' mode='w' encoding='UTF-8'>"
      ]
     },
     "execution_count": 18,
     "metadata": {},
     "output_type": "execute_result"
    }
   ],
   "source": [
    "# you can see the text file with encoding UTF8\n",
    "outfile"
   ]
  },
  {
   "cell_type": "code",
   "execution_count": 20,
   "metadata": {
    "collapsed": false
   },
   "outputs": [
    {
     "data": {
      "text/plain": [
       "'Rahsin\\nKale'"
      ]
     },
     "execution_count": 20,
     "metadata": {},
     "output_type": "execute_result"
    }
   ],
   "source": [
    "#3  \n",
    "list1 = [\"Rahsin\\n\", \"Kale\\n\"]\n",
    "outfile = open(\"Greetings.txt\", \"w\")\n",
    "outfile.writelines(list1)\n",
    "outfile.close()\n",
    "infile = open(\"Greetings.txt\", \"r\")\n",
    "text = infile.read()\n",
    "infile.close()\n",
    "text.rstrip()"
   ]
  },
  {
   "cell_type": "code",
   "execution_count": 21,
   "metadata": {
    "collapsed": false
   },
   "outputs": [
    {
     "name": "stdout",
     "output_type": "stream",
     "text": [
      "6\n"
     ]
    }
   ],
   "source": [
    "# 5\n",
    "print(len(set(\"Bookeeper\")))"
   ]
  },
  {
   "cell_type": "code",
   "execution_count": 22,
   "metadata": {
    "collapsed": false
   },
   "outputs": [
    {
     "name": "stdout",
     "output_type": "stream",
     "text": [
      "[1, 4, 5, 7]\n"
     ]
    }
   ],
   "source": [
    "#7\n",
    "print(sorted(set([1,5,7,4,1])))"
   ]
  },
  {
   "cell_type": "code",
   "execution_count": 23,
   "metadata": {
    "collapsed": false
   },
   "outputs": [
    {
     "name": "stdout",
     "output_type": "stream",
     "text": [
      "[4, 1, 0, 1, 4]\n"
     ]
    }
   ],
   "source": [
    "#9\n",
    "print([x**2 for x in range(-2,3)])"
   ]
  },
  {
   "cell_type": "raw",
   "metadata": {},
   "source": [
    "#11\n",
    "will not able to see the output. list will not have attribute add\n",
    "n = [\"Aniket\", \"Kale\"]\n",
    "n.add(\"In\")\n",
    "print(\"\".join(sorted(n,key=len, reverse=True)))"
   ]
  },
  {
   "cell_type": "code",
   "execution_count": 32,
   "metadata": {
    "collapsed": false
   },
   "outputs": [
    {
     "data": {
      "text/plain": [
       "['a', 'c', 't']"
      ]
     },
     "execution_count": 32,
     "metadata": {},
     "output_type": "execute_result"
    }
   ],
   "source": [
    "#13\n",
    "# in tuple we can add.\n",
    "s = set(\"cat\")\n",
    "s.add(\"t\")\n",
    "sorted(s)"
   ]
  },
  {
   "cell_type": "code",
   "execution_count": 42,
   "metadata": {
    "collapsed": false
   },
   "outputs": [
    {
     "name": "stdout",
     "output_type": "stream",
     "text": [
      "a\n",
      "\n"
     ]
    }
   ],
   "source": [
    "#15\n",
    "# read line by line.\n",
    "infile = open(\"ABC(1).txt\", \"r\")\n",
    "line = infile.readline()\n",
    "print(line)\n",
    "infile.close()"
   ]
  },
  {
   "cell_type": "raw",
   "metadata": {},
   "source": [
    "#17\n",
    "# string parameter we cannot close the file\n",
    "infile = open(\"ABC(1).txt\", \"r\")\n",
    "line = infile.readline()\n",
    "print(line)\n",
    "\"ABC(1).txt\".close()"
   ]
  },
  {
   "cell_type": "code",
   "execution_count": 44,
   "metadata": {
    "collapsed": false
   },
   "outputs": [
    {
     "name": "stdout",
     "output_type": "stream",
     "text": [
      "Hello\n",
      "\n"
     ]
    }
   ],
   "source": [
    "# 19\n",
    "list1 = [\"Hello\\n\", \"Aniket\"]\n",
    "outfile = open(\"Greetings.txt\", \"w\")\n",
    "outfile.writelines(list1)\n",
    "# read the same file\n",
    "infile = open(\"Greetings.txt\", \"r\")\n",
    "line = infile.readline()\n",
    "print(line)"
   ]
  },
  {
   "cell_type": "code",
   "execution_count": 47,
   "metadata": {
    "collapsed": false
   },
   "outputs": [
    {
     "name": "stdout",
     "output_type": "stream",
     "text": [
      "file is already exist\n"
     ]
    }
   ],
   "source": [
    "#21\n",
    "import os.path\n",
    "if os.path.isfile(\"ABC(1).txt\"):\n",
    "    print(\"file is already exist\")\n",
    "else:\n",
    "    infile = open(\"ABC(1).txt\", \"w\")\n",
    "    infile.writelines(\"Hello\\n\")\n",
    "    infile.close()"
   ]
  },
  {
   "cell_type": "code",
   "execution_count": 49,
   "metadata": {
    "collapsed": true
   },
   "outputs": [],
   "source": [
    "# 23\n",
    "# what happened if u ran the above programe?\n",
    "# we already have that file in folder so we expect the above result"
   ]
  },
  {
   "cell_type": "code",
   "execution_count": 50,
   "metadata": {
    "collapsed": true
   },
   "outputs": [],
   "source": [
    "#25\n",
    "def removeDuplicate(list1):\n",
    "    list2 = []\n",
    "    for item in list1:\n",
    "        if item not in list2:\n",
    "            list2.append(item)\n",
    "    return list2       "
   ]
  },
  {
   "cell_type": "code",
   "execution_count": 51,
   "metadata": {
    "collapsed": true
   },
   "outputs": [],
   "source": [
    "# in above example we are comparing the list1 and list2."
   ]
  },
  {
   "cell_type": "code",
   "execution_count": 54,
   "metadata": {
    "collapsed": false
   },
   "outputs": [],
   "source": [
    "#27\n",
    "def findinEither(list1, list2):\n",
    "    list3 = []\n",
    "    for item in list1:\n",
    "        if (item in list2) and (item not in list3):\n",
    "            list3.append(item)\n",
    "    return list3         "
   ]
  },
  {
   "cell_type": "code",
   "execution_count": 55,
   "metadata": {
    "collapsed": false
   },
   "outputs": [
    {
     "data": {
      "text/plain": [
       "[3]"
      ]
     },
     "execution_count": 55,
     "metadata": {},
     "output_type": "execute_result"
    }
   ],
   "source": [
    "findinEither([1,2,3],[3,4,5])"
   ]
  },
  {
   "cell_type": "markdown",
   "metadata": {},
   "source": [
    "# This is another method, where we can used the python library and read the text."
   ]
  },
  {
   "cell_type": "code",
   "execution_count": 67,
   "metadata": {
    "collapsed": false
   },
   "outputs": [
    {
     "data": {
      "text/html": [
       "<div>\n",
       "<table border=\"1\" class=\"dataframe\">\n",
       "  <thead>\n",
       "    <tr style=\"text-align: right;\">\n",
       "      <th></th>\n",
       "      <th>Four score and seven years ago, our fathers brought forth on this continent a new nation: conceived in liberty, and dedicated to the proposition that all men are created equal. Now we are engaged in a great civil war testing whether that nation, or any nation so conceived and so dedicated can long endure. We are met on a great battlefield of that war. We have come to dedicate a portion of that field as a final resting place for those who here gave their lives that that nation might live. It is altogether fitting and proper that we should do this. But, in a larger sense, we cannot dedicate we cannot consecrate we cannot hallow this ground. The brave men, living and dead, who struggled here have consecrated it, far above our poor power to add or detract. The world will little note, nor long remember, what we say here, but it can never forget what they did here. It is for us the living, rather, to be dedicated here to the unfinished work which they who fought here have thus far so nobly advanced. It is rather for us to be here dedicated to the great task remaining before us that from these honored dead we take increased devotion to that cause for which they gave the last full measure of devotion that we here highly resolve that these dead shall not have died in vain that this nation, under God, shall have a new birth of freedom and that government of the people by the people for the people shall not perish from the earth.</th>\n",
       "    </tr>\n",
       "  </thead>\n",
       "  <tbody>\n",
       "  </tbody>\n",
       "</table>\n",
       "</div>"
      ],
      "text/plain": [
       "Empty DataFrame\n",
       "Columns: [Four score and seven years ago, our fathers brought forth on this continent a new nation: conceived in liberty, and dedicated to the proposition that all men are created equal. Now we are engaged in a great civil war testing whether that nation, or any nation so conceived and so dedicated can long endure. We are met on a great battlefield of that war. We have come to dedicate a portion of that field as a final resting place for those who here gave their lives that that nation might live. It is altogether fitting and proper that we should do this. But, in a larger sense, we cannot dedicate we cannot consecrate we cannot hallow this ground. The brave men, living and dead, who struggled here have consecrated it, far above our poor power to add or detract. The world will little note, nor long remember, what we say here, but it can never forget what they did here. It is for us the living, rather, to be dedicated here to the unfinished work which they who fought here have thus far so nobly advanced. It is rather for us to be here dedicated to the great task remaining before us that from these honored dead we take increased devotion to that cause for which they gave the last full measure of devotion that we here highly resolve that these dead shall not have died in vain that this nation, under God, shall have a new birth of freedom and that government of the people by the people for the people shall not perish from the earth.]\n",
       "Index: []"
      ]
     },
     "execution_count": 67,
     "metadata": {},
     "output_type": "execute_result"
    }
   ],
   "source": [
    "#29\n",
    "import pandas as pd\n",
    "data = pd.read_table(\"Gettysburg.txt\")\n",
    "data"
   ]
  },
  {
   "cell_type": "code",
   "execution_count": 92,
   "metadata": {
    "collapsed": false
   },
   "outputs": [
    {
     "name": "stdout",
     "output_type": "stream",
     "text": [
      "Four score and seven years ago, our fathers brought forth on this continent a new nation: conceived in liberty, and dedicated to the proposition that all men are created equal. Now we are engaged in a great civil war testing whether that nation, or any nation so conceived and so dedicated can long endure. We are met on a great battlefield of that war. We have come to dedicate a portion of that field as a final resting place for those who here gave their lives that that nation might live. It is altogether fitting and proper that we should do this. But, in a larger sense, we cannot dedicate we cannot consecrate we cannot hallow this ground. The brave men, living and dead, who struggled here have consecrated it, far above our poor power to add or detract. The world will little note, nor long remember, what we say here, but it can never forget what they did here. It is for us the living, rather, to be dedicated here to the unfinished work which they who fought here have thus far so nobly advanced. It is rather for us to be here dedicated to the great task remaining before us that from these honored dead we take increased devotion to that cause for which they gave the last full measure of devotion that we here highly resolve that these dead shall not have died in vain that this nation, under God, shall have a new birth of freedom and that government of the people by the people for the people shall not perish from the earth.\n"
     ]
    }
   ],
   "source": [
    "infile = open(\"Gettysburg.txt\", \"r\")\n",
    "wordList = [line.rstrip() for line in infile]\n",
    "set(wordList)\n",
    "for word in wordList:\n",
    "    print(word)"
   ]
  },
  {
   "cell_type": "code",
   "execution_count": 94,
   "metadata": {
    "collapsed": false
   },
   "outputs": [],
   "source": [
    "#29"
   ]
  },
  {
   "cell_type": "code",
   "execution_count": 102,
   "metadata": {
    "collapsed": false
   },
   "outputs": [
    {
     "data": {
      "text/plain": [
       "{'Bravo'}"
      ]
     },
     "execution_count": 102,
     "metadata": {},
     "output_type": "execute_result"
    }
   ],
   "source": [
    "#31\n",
    "infile = open(\"Intersection.txt\", \"r\")\n",
    "wordList = [line.rstrip() for line in infile]\n",
    "infile.close()\n",
    "timeset = set(wordList)\n",
    "combinationSet = timeset.union(wordList)\n",
    "combinationSet"
   ]
  },
  {
   "cell_type": "code",
   "execution_count": 119,
   "metadata": {
    "collapsed": false
   },
   "outputs": [
    {
     "name": "stdout",
     "output_type": "stream",
     "text": [
      "['Apricot', 'Aquamarine', 'Atomic Tangerine', 'Bittersweet', 'Black', 'Blizzard Blue', 'Blue', 'Blue Gray', 'Blue Green', 'Blue Violet', 'Brick Red', 'Brown', 'Burnt Orange', 'Burnt Sienna', 'Cadet Blue', 'Carnation Pink', 'Chestnut', 'Copper', 'Cornflower', 'Forest Green', 'Gold', 'Goldenrod', 'Gray', 'Green', 'Green Blue', 'Green Yellow', 'Hot Magenta', 'Indigo', 'Laser Lemon', 'Lavender', 'Lemon Yellow', 'Magenta', 'Mahogany', 'Maize', 'Maroon', 'Melon', 'Midnight Blue', 'Mulberry', 'Navy blue', 'Olive Green', 'Orange', 'Orange Red', 'Orange Yellow', 'Orchid', 'Outrageous Orange', 'Peach', 'Periwinkle', 'Pine Green', 'Plum', 'Raw Sienna', 'Raw Umber', 'Red', 'Red Orange', 'Red Violet', 'Salmon', 'Screamin Green', 'Sea Green', 'Sepia', 'Shocking Pink', 'Silver', 'Sky Blue', 'Spring Green', 'Tan', 'Turquoise Blue', 'Violet (Purple)', 'Violet Blue', 'Violet Red', 'White', 'Wild Watermelon', 'Yellow', 'Yellow Green', 'Yellow Orange']\n"
     ]
    }
   ],
   "source": [
    "#33\n",
    "infile = open(\"Pre1990.txt\", \"r\")\n",
    "wordList = [line.rstrip() for line in infile]\n",
    "list1 = []\n",
    "for word in sorted(wordList):\n",
    "    list1.append(word)\n",
    "print(list1)    "
   ]
  },
  {
   "cell_type": "code",
   "execution_count": 124,
   "metadata": {
    "collapsed": false
   },
   "outputs": [
    {
     "name": "stdout",
     "output_type": "stream",
     "text": [
      "['ApricotAquamarineAtomic TangerineBittersweetBlackBlizzard BlueBlueBlue GrayBlue GreenBlue VioletBrick RedBrownBurnt OrangeBurnt SiennaCadet BlueCarnation PinkChestnutCopperCornflowerForest GreenGoldGoldenrodGrayGreenGreen BlueGreen YellowHot MagentaIndigoLaser LemonLavenderLemon YellowMagentaMahoganyMaizeMaroonMelonMidnight BlueMulberryNavy blueOlive GreenOrangeOrange RedOrange YellowOrchidOutrageous OrangePeachPeriwinklePine GreenPlumRaw SiennaRaw UmberRedRed OrangeRed VioletSalmonScreamin GreenSea GreenSepiaShocking PinkSilverSky BlueSpring GreenTanTurquoise BlueViolet (Purple)Violet BlueViolet RedWhiteWild WatermelonYellowYellow GreenYellow Orange']\n"
     ]
    }
   ],
   "source": [
    "#35\n",
    "# first 8 character,\n",
    "list1[0:8]\n",
    "outfile = open(\"Added.txt\", \"w\")\n",
    "outfile.writelines(list1)\n",
    "infile = open(\"Added.txt\", \"r\")\n",
    "wordList = [line.rstrip() for line in infile]\n",
    "print(wordList)"
   ]
  },
  {
   "cell_type": "code",
   "execution_count": 135,
   "metadata": {
    "collapsed": false
   },
   "outputs": [
    {
     "data": {
      "text/plain": [
       "['6', '9', '2', '3', '6', '4']"
      ]
     },
     "execution_count": 135,
     "metadata": {},
     "output_type": "execute_result"
    }
   ],
   "source": [
    "# 35 Disply the numbers in list\n",
    "infile = open(\"Numbers.txt\", \"r\")\n",
    "wordList = [line.rstrip() for line in infile]\n",
    "wordList"
   ]
  },
  {
   "cell_type": "code",
   "execution_count": 134,
   "metadata": {
    "collapsed": false
   },
   "outputs": [
    {
     "data": {
      "text/plain": [
       "'9'"
      ]
     },
     "execution_count": 134,
     "metadata": {},
     "output_type": "execute_result"
    }
   ],
   "source": [
    "# Maximum number from the list.\n",
    "sorted(wordList)[-1]"
   ]
  },
  {
   "cell_type": "markdown",
   "metadata": {},
   "source": [
    "# Logic\n",
    "# sorted the list \n",
    "# and display the reverse number"
   ]
  },
  {
   "cell_type": "code",
   "execution_count": 137,
   "metadata": {
    "collapsed": false
   },
   "outputs": [
    {
     "data": {
      "text/plain": [
       "'2'"
      ]
     },
     "execution_count": 137,
     "metadata": {},
     "output_type": "execute_result"
    }
   ],
   "source": [
    "# display the lowest number\n",
    "sorted(wordList)[0]"
   ]
  },
  {
   "cell_type": "code",
   "execution_count": null,
   "metadata": {
    "collapsed": true
   },
   "outputs": [],
   "source": [
    "# we will do the summation of list\n",
    "# but before that we will comvert into the integer.\n",
    "list1 = list(map(int,wordList))    "
   ]
  },
  {
   "cell_type": "code",
   "execution_count": 147,
   "metadata": {
    "collapsed": false
   },
   "outputs": [
    {
     "data": {
      "text/plain": [
       "30"
      ]
     },
     "execution_count": 147,
     "metadata": {},
     "output_type": "execute_result"
    }
   ],
   "source": [
    "#39\n",
    "sum(list1)"
   ]
  },
  {
   "cell_type": "code",
   "execution_count": 151,
   "metadata": {
    "collapsed": false
   },
   "outputs": [
    {
     "data": {
      "text/plain": [
       "5.0"
      ]
     },
     "execution_count": 151,
     "metadata": {},
     "output_type": "execute_result"
    }
   ],
   "source": [
    "#41\n",
    "# average\n",
    "average = sum(list1)/ len(list1)\n",
    "average"
   ]
  },
  {
   "cell_type": "code",
   "execution_count": 152,
   "metadata": {
    "collapsed": false
   },
   "outputs": [
    {
     "data": {
      "text/plain": [
       "[6, 9, 2, 3, 6, 4]"
      ]
     },
     "execution_count": 152,
     "metadata": {},
     "output_type": "execute_result"
    }
   ],
   "source": [
    "# see the numbers\n",
    "list1"
   ]
  },
  {
   "cell_type": "code",
   "execution_count": 154,
   "metadata": {
    "collapsed": false
   },
   "outputs": [
    {
     "data": {
      "text/plain": [
       "['January',\n",
       " 'February',\n",
       " 'March',\n",
       " 'April',\n",
       " 'May',\n",
       " 'June',\n",
       " 'July',\n",
       " 'August',\n",
       " 'September',\n",
       " 'October',\n",
       " 'November',\n",
       " 'December']"
      ]
     },
     "execution_count": 154,
     "metadata": {},
     "output_type": "execute_result"
    }
   ],
   "source": [
    "#43\n",
    "infile = open(\"SomeMonths.txt\", \"r\")\n",
    "wordList = [line.rstrip() for line in infile]\n",
    "wordList"
   ]
  },
  {
   "cell_type": "markdown",
   "metadata": {},
   "source": [
    "# No we can manipulate the list by using the list attributes"
   ]
  },
  {
   "cell_type": "code",
   "execution_count": 157,
   "metadata": {
    "collapsed": false
   },
   "outputs": [
    {
     "name": "stdout",
     "output_type": "stream",
     "text": [
      "January\n",
      "February\n",
      "March\n",
      "April\n",
      "May\n",
      "June\n",
      "July\n",
      "August\n",
      "September\n",
      "October\n",
      "November\n",
      "December\n"
     ]
    }
   ],
   "source": [
    "#45\n",
    "list1 = [] \n",
    "for word in wordList:\n",
    "    print(word)"
   ]
  },
  {
   "cell_type": "code",
   "execution_count": 175,
   "metadata": {
    "collapsed": false
   },
   "outputs": [
    {
     "data": {
      "text/plain": [
       "['Alabama',\n",
       " 'Alaska',\n",
       " 'Arizona',\n",
       " 'Arkansas',\n",
       " 'California',\n",
       " 'Colorado',\n",
       " 'Connecticut',\n",
       " 'Delaware',\n",
       " 'Florida',\n",
       " 'Georgia',\n",
       " 'Hawaii',\n",
       " 'Idaho',\n",
       " 'Illinois',\n",
       " 'Indiana',\n",
       " 'Iowa',\n",
       " 'Kansas',\n",
       " 'Kentucky',\n",
       " 'Louisiana',\n",
       " 'Maine',\n",
       " 'Maryland',\n",
       " 'Massachusetts',\n",
       " 'Michigan',\n",
       " 'Minnesota',\n",
       " 'Mississippi',\n",
       " 'Missouri',\n",
       " 'Montana',\n",
       " 'Nebraska',\n",
       " 'Nevada',\n",
       " 'New Hampshire',\n",
       " 'New Jersey',\n",
       " 'New Mexico',\n",
       " 'New York',\n",
       " 'North Carolina',\n",
       " 'North Dakota',\n",
       " 'Ohio',\n",
       " 'Oklahoma',\n",
       " 'Oregon',\n",
       " 'Pennsylvania',\n",
       " 'Rhode Island',\n",
       " 'South Carolina',\n",
       " 'South Dakota',\n",
       " 'Tennessee',\n",
       " 'Texas',\n",
       " 'Utah',\n",
       " 'Vermont',\n",
       " 'Virginia',\n",
       " 'Washington',\n",
       " 'West Virginia',\n",
       " 'Wisconsin',\n",
       " 'Wyoming']"
      ]
     },
     "execution_count": 175,
     "metadata": {},
     "output_type": "execute_result"
    }
   ],
   "source": [
    "#45\n",
    "infile = open(\"AllStates.txt\", \"r\")\n",
    "wordList = [line.rstrip() for line in infile]\n",
    "wordList     "
   ]
  },
  {
   "cell_type": "code",
   "execution_count": 176,
   "metadata": {
    "collapsed": false
   },
   "outputs": [
    {
     "data": {
      "text/plain": [
       "['Delaware',\n",
       " 'Pennsylvania',\n",
       " 'New Jersey',\n",
       " 'Georgia',\n",
       " 'Connecticut',\n",
       " 'Massachusetts',\n",
       " 'Maryland',\n",
       " 'South Carolina',\n",
       " 'New Hampshire',\n",
       " 'Virginia',\n",
       " 'New York',\n",
       " 'North Carolina',\n",
       " 'Rhode Island']"
      ]
     },
     "execution_count": 176,
     "metadata": {},
     "output_type": "execute_result"
    }
   ],
   "source": [
    "infile = open(\"FirstStates.txt\", \"r\")\n",
    "firststates= [line.rstrip() for line in infile]\n",
    "firststates"
   ]
  },
  {
   "cell_type": "code",
   "execution_count": 187,
   "metadata": {
    "collapsed": false
   },
   "outputs": [
    {
     "data": {
      "text/plain": [
       "['Alabama', 'Alaska', 'Arizona', 'Arkansas']"
      ]
     },
     "execution_count": 187,
     "metadata": {},
     "output_type": "execute_result"
    }
   ],
   "source": [
    "wordList[0:4]"
   ]
  },
  {
   "cell_type": "markdown",
   "metadata": {},
   "source": [
    "# Conclusion\n",
    "# Once we strip the text file into the list then we can used the different attributes of the list \n"
   ]
  },
  {
   "cell_type": "code",
   "execution_count": null,
   "metadata": {
    "collapsed": true
   },
   "outputs": [],
   "source": []
  }
 ],
 "metadata": {
  "anaconda-cloud": {},
  "kernelspec": {
   "display_name": "Python [Root]",
   "language": "python",
   "name": "Python [Root]"
  },
  "language_info": {
   "codemirror_mode": {
    "name": "ipython",
    "version": 3
   },
   "file_extension": ".py",
   "mimetype": "text/x-python",
   "name": "python",
   "nbconvert_exporter": "python",
   "pygments_lexer": "ipython3",
   "version": "3.5.3"
  }
 },
 "nbformat": 4,
 "nbformat_minor": 0
}
